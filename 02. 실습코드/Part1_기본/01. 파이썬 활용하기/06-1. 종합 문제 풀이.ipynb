{
 "cells": [
  {
   "cell_type": "code",
   "execution_count": 1,
   "metadata": {},
   "outputs": [
    {
     "name": "stdout",
     "output_type": "stream",
     "text": [
      "2 3\n",
      "2\n",
      "['박철호', '강동희', '이재명', '이재수', '박수호', '이의덕', '송우환', '권종수', '전경식', '최승만', '이유정', '이성만', '박영희', '김재식', '김지석']\n",
      "['강동희', '권종수', '김재식', '김지석', '박수호', '박영희', '박철호', '송우환', '이성만', '이유정', '이의덕', '이재명', '이재수', '전경식', '최승만']\n"
     ]
    }
   ],
   "source": [
    "# 문제 1\n",
    "data = '이의덕,이재명,권종수,이재수,박철호,강동희,이재수,김지석,최승만,이성만,박영희,박수호,전경식,송우환,김재식,이유정'\n",
    "\n",
    "names = data.split(\",\")\n",
    "park = 0\n",
    "kim = 0\n",
    "\n",
    "for name in names:\n",
    "    if name.startswith('박'):\n",
    "        park += 1\n",
    "    elif name.startswith('김'):\n",
    "        kim += 1\n",
    "\n",
    "print(kim, park)  # 1. 김씨와 박씨 count 출력\n",
    "print(names.count('이재수'))  # 2. \"이재수\"란 이름 count 출력\n",
    "\n",
    "names = list(set(names))\n",
    "print(names)  # 3. 중복을 제거한 이름을 출력\n",
    "print(sorted(names))  # 4. 중복을 제거한 이름을 오름차순으로 정렬하여 출력"
   ]
  },
  {
   "cell_type": "code",
   "execution_count": 2,
   "metadata": {},
   "outputs": [
    {
     "name": "stdout",
     "output_type": "stream",
     "text": [
      "25164150\n"
     ]
    }
   ],
   "source": [
    "# 문제 2\n",
    "sum1 = 0\n",
    "sum2 = 0\n",
    "\n",
    "for i in range(1, 100+1):\n",
    "    sum1 += i\n",
    "    sum2 += i**2  # 제곱의 합\n",
    "\n",
    "sum1 = sum1 ** 2  # 합의 제곱\n",
    "\n",
    "print(sum1 - sum2)"
   ]
  },
  {
   "cell_type": "code",
   "execution_count": 3,
   "metadata": {},
   "outputs": [
    {
     "name": "stdout",
     "output_type": "stream",
     "text": [
      "{'1': 21, '2': 20, '3': 20, '4': 20, '5': 20, '6': 20, '7': 20, '8': 20, '9': 20, '0': 11}\n"
     ]
    }
   ],
   "source": [
    "# 문제 3\n",
    "from collections import defaultdict\n",
    "\n",
    "d = defaultdict(int)\n",
    "for number in range(1, 100+1):\n",
    "    for c in str(number):\n",
    "        d[c] += 1\n",
    "\n",
    "print(dict(d))"
   ]
  },
  {
   "cell_type": "code",
   "execution_count": 4,
   "metadata": {},
   "outputs": [
    {
     "name": "stdout",
     "output_type": "stream",
     "text": [
      "a3b2c6a1\n"
     ]
    }
   ],
   "source": [
    "# 문제 4\n",
    "def compress_string(s):\n",
    "    _c = \"\"\n",
    "    cnt = 0\n",
    "    result = \"\"\n",
    "    for c in s:\n",
    "        if c!=_c:\n",
    "            _c = c\n",
    "            if cnt: result += str(cnt)\n",
    "            result += c\n",
    "            cnt = 1\n",
    "        else:\n",
    "            cnt +=1\n",
    "    if cnt: result += str(cnt)\n",
    "    return result\n",
    "\n",
    "print (compress_string(\"aaabbcccccca\")) #a3b2c6a1 출력"
   ]
  },
  {
   "cell_type": "code",
   "execution_count": 5,
   "metadata": {},
   "outputs": [],
   "source": [
    "# 문제 5\n",
    "from xml.etree.ElementTree import Element, SubElement, ElementTree\n",
    "\n",
    "blog = Element(\"blog\")\n",
    "blog.attrib[\"date\"] = \"20181126\"\n",
    "\n",
    "SubElement(blog, \"subject\").text = \"OSD PYTHON\"\n",
    "SubElement(blog, \"author\").text = \"NAME\"\n",
    "SubElement(blog, \"content\").text = \"Learn Python & Public Analysis\"\n",
    "\n",
    "ElementTree(blog).write(\"blog.xml\")"
   ]
  },
  {
   "cell_type": "code",
   "execution_count": 7,
   "metadata": {},
   "outputs": [
    {
     "ename": "FileNotFoundError",
     "evalue": "[Errno 2] No such file or directory: '../data/myinfo.json'",
     "output_type": "error",
     "traceback": [
      "\u001b[1;31m---------------------------------------------------------------------------\u001b[0m",
      "\u001b[1;31mFileNotFoundError\u001b[0m                         Traceback (most recent call last)",
      "\u001b[1;32m<ipython-input-7-7ac04eaeabbb>\u001b[0m in \u001b[0;36m<module>\u001b[1;34m()\u001b[0m\n\u001b[0;32m      2\u001b[0m \u001b[1;32mimport\u001b[0m \u001b[0mjson\u001b[0m\u001b[1;33m\u001b[0m\u001b[0m\n\u001b[0;32m      3\u001b[0m \u001b[1;33m\u001b[0m\u001b[0m\n\u001b[1;32m----> 4\u001b[1;33m \u001b[1;32mwith\u001b[0m \u001b[0mopen\u001b[0m\u001b[1;33m(\u001b[0m\u001b[1;34m'../data/myinfo.json'\u001b[0m\u001b[1;33m)\u001b[0m \u001b[1;32mas\u001b[0m \u001b[0mf\u001b[0m\u001b[1;33m:\u001b[0m\u001b[1;33m\u001b[0m\u001b[0m\n\u001b[0m\u001b[0;32m      5\u001b[0m     \u001b[0mdata\u001b[0m \u001b[1;33m=\u001b[0m \u001b[0mjson\u001b[0m\u001b[1;33m.\u001b[0m\u001b[0mload\u001b[0m\u001b[1;33m(\u001b[0m\u001b[0mf\u001b[0m\u001b[1;33m)\u001b[0m  \u001b[1;31m# json파일을 읽고 딕셔너리로 저장한다.\u001b[0m\u001b[1;33m\u001b[0m\u001b[0m\n\u001b[0;32m      6\u001b[0m \u001b[1;33m\u001b[0m\u001b[0m\n",
      "\u001b[1;31mFileNotFoundError\u001b[0m: [Errno 2] No such file or directory: '../data/myinfo.json'"
     ]
    }
   ],
   "source": [
    "# 문제 6\n",
    "import json\n",
    "\n",
    "with open('../data/myinfo.json') as f:\n",
    "    data = json.load(f)  # json파일을 읽고 딕셔너리로 저장한다.\n",
    "\n",
    "data['age'] = 40  # age 값을 40으로 변경\n",
    "\n",
    "with open('../data/myinfo.json', 'w') as f:\n",
    "    json.dump(data, f, indent=4)  # 딕셔너리를 json 파일로 저장한다."
   ]
  },
  {
   "cell_type": "code",
   "execution_count": 8,
   "metadata": {},
   "outputs": [
    {
     "name": "stdout",
     "output_type": "stream",
     "text": [
      "HFY\n",
      "CRR\n"
     ]
    }
   ],
   "source": [
    "# 문제 7\n",
    "def casar(word, n):\n",
    "    result = \"\"\n",
    "    alpha = 'ABCDEFGHIJKLMNOPQRSTUVWXYZ'\n",
    "    for a in word:\n",
    "        index = alpha.index(a)\n",
    "        result += alpha[(index+n) % 26]\n",
    "    return result\n",
    "\n",
    "print(casar(\"CAT\", 5))  # HFY 출력\n",
    "print(casar(\"ZOO\", 3))  # CRR 출력"
   ]
  },
  {
   "cell_type": "code",
   "execution_count": null,
   "metadata": {},
   "outputs": [],
   "source": []
  }
 ],
 "metadata": {
  "kernelspec": {
   "display_name": "Python 3",
   "language": "python",
   "name": "python3"
  },
  "language_info": {
   "codemirror_mode": {
    "name": "ipython",
    "version": 3
   },
   "file_extension": ".py",
   "mimetype": "text/x-python",
   "name": "python",
   "nbconvert_exporter": "python",
   "pygments_lexer": "ipython3",
   "version": "3.7.0"
  }
 },
 "nbformat": 4,
 "nbformat_minor": 2
}
