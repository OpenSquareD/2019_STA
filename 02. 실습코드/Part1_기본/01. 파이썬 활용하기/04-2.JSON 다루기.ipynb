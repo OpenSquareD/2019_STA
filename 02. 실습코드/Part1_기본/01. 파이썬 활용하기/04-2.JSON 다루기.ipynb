{
 "cells": [
  {
   "cell_type": "code",
   "execution_count": 1,
   "metadata": {},
   "outputs": [],
   "source": [
    "# json 데이터 예시\n",
    "\n",
    "data = { \n",
    "            \"apple\": \n",
    "            { \n",
    "                \"price\": 1000,\n",
    "                \"origin\": \"korea\" \n",
    "            },\n",
    "            \"banana\": \n",
    "            {\n",
    "                \"price\": 1200,\n",
    "                \"origin\": \"china\"\n",
    "            }\n",
    "       }\n"
   ]
  },
  {
   "cell_type": "code",
   "execution_count": 2,
   "metadata": {},
   "outputs": [],
   "source": [
    "# json 파일로 저장\n",
    "import json\n",
    "with open('./test.json', 'w') as make_file:\n",
    "    json.dump(data, make_file, indent=\"\\t\")"
   ]
  },
  {
   "cell_type": "code",
   "execution_count": 3,
   "metadata": {},
   "outputs": [
    {
     "data": {
      "text/plain": [
       "{'apple': {'price': 1000, 'origin': 'korea'},\n",
       " 'banana': {'price': 1200, 'origin': 'china'}}"
      ]
     },
     "execution_count": 3,
     "metadata": {},
     "output_type": "execute_result"
    }
   ],
   "source": [
    "# json 파일 불러오기\n",
    "\n",
    "with open('./test.json', 'r') as f:\n",
    "    json_data = json.load(f)\n",
    "json_data"
   ]
  },
  {
   "cell_type": "code",
   "execution_count": 4,
   "metadata": {},
   "outputs": [
    {
     "data": {
      "text/plain": [
       "{'price': 1000, 'origin': 'korea'}"
      ]
     },
     "execution_count": 4,
     "metadata": {},
     "output_type": "execute_result"
    }
   ],
   "source": [
    "# json 값 접근\n",
    "\n",
    "json_data['apple']"
   ]
  },
  {
   "cell_type": "code",
   "execution_count": 5,
   "metadata": {},
   "outputs": [
    {
     "data": {
      "text/plain": [
       "(1000, 'korea')"
      ]
     },
     "execution_count": 5,
     "metadata": {},
     "output_type": "execute_result"
    }
   ],
   "source": [
    "# json 값 접근\n",
    "\n",
    "json_data['apple']['price'], json_data['apple']['origin'] "
   ]
  },
  {
   "cell_type": "code",
   "execution_count": 6,
   "metadata": {},
   "outputs": [],
   "source": [
    "# json 값 수정\n",
    "json_data['apple']['price'] = json_data['apple']['price'] * 0.8\n",
    "json_data['banana']['price'] *= 1.2"
   ]
  },
  {
   "cell_type": "code",
   "execution_count": 7,
   "metadata": {},
   "outputs": [
    {
     "data": {
      "text/plain": [
       "{'apple': {'price': 800.0, 'origin': 'korea'},\n",
       " 'banana': {'price': 1440.0, 'origin': 'china'}}"
      ]
     },
     "execution_count": 7,
     "metadata": {},
     "output_type": "execute_result"
    }
   ],
   "source": [
    "json_data"
   ]
  },
  {
   "cell_type": "code",
   "execution_count": null,
   "metadata": {},
   "outputs": [],
   "source": []
  }
 ],
 "metadata": {
  "kernelspec": {
   "display_name": "Python 3",
   "language": "python",
   "name": "python3"
  },
  "language_info": {
   "codemirror_mode": {
    "name": "ipython",
    "version": 3
   },
   "file_extension": ".py",
   "mimetype": "text/x-python",
   "name": "python",
   "nbconvert_exporter": "python",
   "pygments_lexer": "ipython3",
   "version": "3.7.4"
  }
 },
 "nbformat": 4,
 "nbformat_minor": 2
}
