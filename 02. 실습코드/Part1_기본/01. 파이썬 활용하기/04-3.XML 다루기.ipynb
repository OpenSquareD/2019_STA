{
 "cells": [
  {
   "cell_type": "code",
   "execution_count": 1,
   "metadata": {},
   "outputs": [
    {
     "name": "stdout",
     "output_type": "stream",
     "text": [
      "<note><to>Students</to></note>\n"
     ]
    }
   ],
   "source": [
    "from xml.etree.ElementTree import Element, dump\n",
    "\n",
    "note = Element(\"note\")\n",
    "to = Element(\"to\")\n",
    "to.text = \"Students\"\n",
    "\n",
    "note.append(to)\n",
    "dump(note)"
   ]
  },
  {
   "cell_type": "code",
   "execution_count": 2,
   "metadata": {},
   "outputs": [
    {
     "name": "stdout",
     "output_type": "stream",
     "text": [
      "<note><to>Students</to><from>OSD</from></note>\n"
     ]
    }
   ],
   "source": [
    "from xml.etree.ElementTree import Element, SubElement, dump\n",
    "\n",
    "note = Element(\"note\")\n",
    "to = Element(\"to\")\n",
    "to.text = \"Students\"\n",
    "\n",
    "note.append(to)\n",
    "SubElement(note, \"from\").text = \"OSD\"\n",
    "\n",
    "dump(note)"
   ]
  },
  {
   "cell_type": "code",
   "execution_count": 3,
   "metadata": {},
   "outputs": [
    {
     "name": "stdout",
     "output_type": "stream",
     "text": [
      "<note date=\"20190819\"><to>Students</to><from>OSD</from></note>\n"
     ]
    }
   ],
   "source": [
    "from xml.etree.ElementTree import Element, SubElement, dump\n",
    "\n",
    "note = Element(\"note\")\n",
    "to = Element(\"to\")\n",
    "to.text = \"Students\"\n",
    "\n",
    "note.append(to)\n",
    "SubElement(note, \"from\").text = \"OSD\"\n",
    "note.attrib[\"date\"] = \"20190819\"\n",
    "#note = Element(\"note\", date=\"20190819\")\n",
    "dump(note)"
   ]
  },
  {
   "cell_type": "code",
   "execution_count": 4,
   "metadata": {},
   "outputs": [
    {
     "name": "stdout",
     "output_type": "stream",
     "text": [
      "<note date=\"20190819\"><to>Students</to><from>OSD</from><heading>Welcom</heading><body>Python Public Analysis</body></note>\n"
     ]
    }
   ],
   "source": [
    "from xml.etree.ElementTree import Element, SubElement, dump\n",
    "\n",
    "note = Element(\"note\")\n",
    "note.attrib[\"date\"] = \"20190819\"\n",
    "\n",
    "to = Element(\"to\")\n",
    "to.text = \"Students\"\n",
    "note.append(to)\n",
    "\n",
    "SubElement(note, \"from\").text = \"OSD\"\n",
    "SubElement(note, \"heading\").text = \"Welcom\"\n",
    "SubElement(note, \"body\").text = \"Python Public Analysis\"\n",
    "\n",
    "dump(note)"
   ]
  },
  {
   "cell_type": "code",
   "execution_count": 5,
   "metadata": {},
   "outputs": [
    {
     "name": "stdout",
     "output_type": "stream",
     "text": [
      "<note date=\"20190819\">\n",
      "  <to>Students</to>\n",
      "  <from>OSD</from>\n",
      "  <heading>Welcom</heading>\n",
      "  <body>Python Public Analysis</body>\n",
      "</note>\n"
     ]
    }
   ],
   "source": [
    "from xml.etree.ElementTree import Element, SubElement, dump\n",
    "\n",
    "note = Element(\"note\")\n",
    "note.attrib[\"date\"] = \"20190819\"\n",
    "\n",
    "to = Element(\"to\")\n",
    "to.text = \"Students\"\n",
    "note.append(to)\n",
    "\n",
    "SubElement(note, \"from\").text = \"OSD\"\n",
    "SubElement(note, \"heading\").text = \"Welcom\"\n",
    "SubElement(note, \"body\").text = \"Python Public Analysis\"\n",
    "\n",
    "def indent(elem, level=0):\n",
    "    i = \"\\n\" + level*\"  \"\n",
    "    if len(elem):\n",
    "        if not elem.text or not elem.text.strip():\n",
    "            elem.text = i + \"  \"\n",
    "        if not elem.tail or not elem.tail.strip():\n",
    "            elem.tail = i\n",
    "        for elem in elem:\n",
    "            indent(elem, level+1)\n",
    "        if not elem.tail or not elem.tail.strip():\n",
    "            elem.tail = i\n",
    "    else:\n",
    "        if level and (not elem.tail or not elem.tail.strip()):\n",
    "            elem.tail = i\n",
    "\n",
    "indent(note)\n",
    "dump(note)"
   ]
  },
  {
   "cell_type": "code",
   "execution_count": 6,
   "metadata": {},
   "outputs": [],
   "source": [
    "from xml.etree.ElementTree import ElementTree\n",
    "ElementTree(note).write(\"./xml01.xml\")"
   ]
  },
  {
   "cell_type": "code",
   "execution_count": 7,
   "metadata": {},
   "outputs": [],
   "source": [
    "from xml.etree.ElementTree import parse\n",
    "tree = parse(\"./xml01.xml\")\n",
    "note = tree.getroot()"
   ]
  },
  {
   "cell_type": "code",
   "execution_count": 8,
   "metadata": {},
   "outputs": [
    {
     "name": "stdout",
     "output_type": "stream",
     "text": [
      "20190819\n",
      "default\n",
      "['date']\n",
      "[('date', '20190819')]\n"
     ]
    }
   ],
   "source": [
    "print(note.get(\"date\"))\n",
    "print(note.get(\"foo\", \"default\"))\n",
    "print(note.keys())\n",
    "print(note.items())"
   ]
  },
  {
   "cell_type": "code",
   "execution_count": 9,
   "metadata": {},
   "outputs": [],
   "source": [
    "from_tag = note.find(\"from\")\n",
    "from_tags = note.findall(\"from\")\n",
    "from_text = note.findtext(\"from\")"
   ]
  },
  {
   "cell_type": "code",
   "execution_count": 10,
   "metadata": {},
   "outputs": [
    {
     "name": "stderr",
     "output_type": "stream",
     "text": [
      "C:\\Users\\BAEMIN\\Anaconda3\\lib\\site-packages\\ipykernel_launcher.py:2: DeprecationWarning: This method will be removed in future versions.  Use 'list(elem)' or iteration over elem instead.\n",
      "  \n"
     ]
    }
   ],
   "source": [
    "childs = note.getiterator()\n",
    "childs = note.getchildren()"
   ]
  },
  {
   "cell_type": "code",
   "execution_count": 11,
   "metadata": {},
   "outputs": [
    {
     "data": {
      "text/plain": [
       "<_elementtree._element_iterator at 0x27b3ff80728>"
      ]
     },
     "execution_count": 11,
     "metadata": {},
     "output_type": "execute_result"
    }
   ],
   "source": [
    "note.getiterator(\"from\")"
   ]
  },
  {
   "cell_type": "code",
   "execution_count": null,
   "metadata": {},
   "outputs": [],
   "source": []
  }
 ],
 "metadata": {
  "kernelspec": {
   "display_name": "Python 3",
   "language": "python",
   "name": "python3"
  },
  "language_info": {
   "codemirror_mode": {
    "name": "ipython",
    "version": 3
   },
   "file_extension": ".py",
   "mimetype": "text/x-python",
   "name": "python",
   "nbconvert_exporter": "python",
   "pygments_lexer": "ipython3",
   "version": "3.7.3"
  }
 },
 "nbformat": 4,
 "nbformat_minor": 2
}
