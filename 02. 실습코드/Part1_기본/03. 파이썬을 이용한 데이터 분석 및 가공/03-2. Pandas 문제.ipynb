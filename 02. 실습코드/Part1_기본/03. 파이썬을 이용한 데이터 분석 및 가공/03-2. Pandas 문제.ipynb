{
 "cells": [
  {
   "cell_type": "markdown",
   "metadata": {},
   "source": [
    "# 문제 1\n",
    "A 반 학생 5명과 B반 학생 5명의 국어, 영어, 수학 점수를 나타내는 데이터프레임을 다음과 같이 만든다.\n",
    "\n",
    "1. \"반\", \"번호\", \"국어\", \"영어\", \"수학\" 을 열로 가지는 데이터프레임 df_score3을 만든다.\n",
    "\n",
    "2. df_score3을 변형하여 1차 행 인덱스로 \"반\"을 2차 행 인덱스로 \"번호\"을 가지는 데이터프레임 df_score4을 만든다.\n",
    "\n",
    "3. 데이터 프레임 df_score4에 각 학생의 평균을 나타내는 행을 오른쪽에 추가한다.\n",
    "\n",
    "4. df_score3을 변형하여 행 인덱스로 \"번호\"를, 1차 열 인덱스로 \"국어\", \"영어\", \"수학\"을, 2차 열 인덱스로 \"반\"을 가지는 데이터프레임 df_score5을 만든다.\n",
    "\n",
    "5. 데이터 프레임 df_score5에 각 반별 각 과목의 평균을 나타내는 행을 아래에 추가한다"
   ]
  },
  {
   "cell_type": "markdown",
   "metadata": {},
   "source": [
    "# 문제 2\n",
    "\n",
    "두 개의 데이터프레임을 만들고 merge 명령으로 합친다. 단 데이터프레임은 다음 조건을 만족해야 한다.\n",
    "\n",
    "1. 각각 5 x 5 이상의 크기를 가진다.\n",
    "2. 공통 열을 하나 이상 가진다. 다만 공통 열의 이름은 서로 다르다."
   ]
  },
  {
   "cell_type": "markdown",
   "metadata": {},
   "source": [
    "# 문제 3\n",
    "\n",
    "어느 회사의 전반기(1월 ~ 6월) 실적을 나타내는 데이터프레임과 후반기(7월 ~ 12월) 실적을 나타내는 데이터프레임을 만든 뒤 합친다. 실적 정보는 \"매출\", \"비용\", \"이익\" 으로 이루어진다. (이익 = 매출 - 비용).\n",
    "\n",
    "또한 1년간의 총 실적을 마지막 행으로 덧붙인다."
   ]
  },
  {
   "cell_type": "markdown",
   "metadata": {},
   "source": [
    "# 문제 4\n",
    "타이타닉 승객 데이터를 이용하여 다음 분석을 실시하라. 데이터는 다음과 같이 받을 수 있다.\n",
    "```\n",
    "titanic = sns.load_dataset(\"titanic\")\n",
    "```\n",
    "1. qcut 명령으로 세 개의 나이 그룹을 만든다.\n",
    "2. 성별, 선실, 나이 그룹에 의한 생존율을 데이터프레임으로 계산한다. 행에는 성별 및 나이 그룹에 대한 다중 인덱스를 사용하고 열에는 선실 인덱스를 사용한다.\n",
    "3. 성별 및 선실에 의한 생존율을 피봇 데이터 형태로 만든다."
   ]
  }
 ],
 "metadata": {
  "kernelspec": {
   "display_name": "Python 3",
   "language": "python",
   "name": "python3"
  },
  "language_info": {
   "codemirror_mode": {
    "name": "ipython",
    "version": 3
   },
   "file_extension": ".py",
   "mimetype": "text/x-python",
   "name": "python",
   "nbconvert_exporter": "python",
   "pygments_lexer": "ipython3",
   "version": "3.7.0"
  }
 },
 "nbformat": 4,
 "nbformat_minor": 2
}
