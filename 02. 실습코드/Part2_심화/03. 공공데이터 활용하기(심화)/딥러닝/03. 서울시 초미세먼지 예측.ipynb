{
 "cells": [
  {
   "cell_type": "code",
   "execution_count": 1,
   "metadata": {},
   "outputs": [
    {
     "name": "stderr",
     "output_type": "stream",
     "text": [
      "Using TensorFlow backend.\n",
      "c:\\program files\\python37\\lib\\site-packages\\tensorflow\\python\\framework\\dtypes.py:516: FutureWarning: Passing (type, 1) or '1type' as a synonym of type is deprecated; in a future version of numpy, it will be understood as (type, (1,)) / '(1,)type'.\n",
      "  _np_qint8 = np.dtype([(\"qint8\", np.int8, 1)])\n",
      "c:\\program files\\python37\\lib\\site-packages\\tensorflow\\python\\framework\\dtypes.py:517: FutureWarning: Passing (type, 1) or '1type' as a synonym of type is deprecated; in a future version of numpy, it will be understood as (type, (1,)) / '(1,)type'.\n",
      "  _np_quint8 = np.dtype([(\"quint8\", np.uint8, 1)])\n",
      "c:\\program files\\python37\\lib\\site-packages\\tensorflow\\python\\framework\\dtypes.py:518: FutureWarning: Passing (type, 1) or '1type' as a synonym of type is deprecated; in a future version of numpy, it will be understood as (type, (1,)) / '(1,)type'.\n",
      "  _np_qint16 = np.dtype([(\"qint16\", np.int16, 1)])\n",
      "c:\\program files\\python37\\lib\\site-packages\\tensorflow\\python\\framework\\dtypes.py:519: FutureWarning: Passing (type, 1) or '1type' as a synonym of type is deprecated; in a future version of numpy, it will be understood as (type, (1,)) / '(1,)type'.\n",
      "  _np_quint16 = np.dtype([(\"quint16\", np.uint16, 1)])\n",
      "c:\\program files\\python37\\lib\\site-packages\\tensorflow\\python\\framework\\dtypes.py:520: FutureWarning: Passing (type, 1) or '1type' as a synonym of type is deprecated; in a future version of numpy, it will be understood as (type, (1,)) / '(1,)type'.\n",
      "  _np_qint32 = np.dtype([(\"qint32\", np.int32, 1)])\n",
      "c:\\program files\\python37\\lib\\site-packages\\tensorflow\\python\\framework\\dtypes.py:525: FutureWarning: Passing (type, 1) or '1type' as a synonym of type is deprecated; in a future version of numpy, it will be understood as (type, (1,)) / '(1,)type'.\n",
      "  np_resource = np.dtype([(\"resource\", np.ubyte, 1)])\n",
      "c:\\program files\\python37\\lib\\site-packages\\tensorboard\\compat\\tensorflow_stub\\dtypes.py:541: FutureWarning: Passing (type, 1) or '1type' as a synonym of type is deprecated; in a future version of numpy, it will be understood as (type, (1,)) / '(1,)type'.\n",
      "  _np_qint8 = np.dtype([(\"qint8\", np.int8, 1)])\n",
      "c:\\program files\\python37\\lib\\site-packages\\tensorboard\\compat\\tensorflow_stub\\dtypes.py:542: FutureWarning: Passing (type, 1) or '1type' as a synonym of type is deprecated; in a future version of numpy, it will be understood as (type, (1,)) / '(1,)type'.\n",
      "  _np_quint8 = np.dtype([(\"quint8\", np.uint8, 1)])\n",
      "c:\\program files\\python37\\lib\\site-packages\\tensorboard\\compat\\tensorflow_stub\\dtypes.py:543: FutureWarning: Passing (type, 1) or '1type' as a synonym of type is deprecated; in a future version of numpy, it will be understood as (type, (1,)) / '(1,)type'.\n",
      "  _np_qint16 = np.dtype([(\"qint16\", np.int16, 1)])\n",
      "c:\\program files\\python37\\lib\\site-packages\\tensorboard\\compat\\tensorflow_stub\\dtypes.py:544: FutureWarning: Passing (type, 1) or '1type' as a synonym of type is deprecated; in a future version of numpy, it will be understood as (type, (1,)) / '(1,)type'.\n",
      "  _np_quint16 = np.dtype([(\"quint16\", np.uint16, 1)])\n",
      "c:\\program files\\python37\\lib\\site-packages\\tensorboard\\compat\\tensorflow_stub\\dtypes.py:545: FutureWarning: Passing (type, 1) or '1type' as a synonym of type is deprecated; in a future version of numpy, it will be understood as (type, (1,)) / '(1,)type'.\n",
      "  _np_qint32 = np.dtype([(\"qint32\", np.int32, 1)])\n",
      "c:\\program files\\python37\\lib\\site-packages\\tensorboard\\compat\\tensorflow_stub\\dtypes.py:550: FutureWarning: Passing (type, 1) or '1type' as a synonym of type is deprecated; in a future version of numpy, it will be understood as (type, (1,)) / '(1,)type'.\n",
      "  np_resource = np.dtype([(\"resource\", np.ubyte, 1)])\n"
     ]
    }
   ],
   "source": [
    "import numpy\n",
    "import matplotlib.pyplot as plt\n",
    "%matplotlib inline\n",
    "from pandas import read_csv\n",
    "import math\n",
    "from keras.models import Sequential\n",
    "from keras.layers import Dense\n",
    "from keras.layers import LSTM\n",
    "from sklearn.preprocessing import MinMaxScaler\n",
    "from sklearn.metrics import mean_squared_error\n",
    "\n",
    "\n",
    "numpy.random.seed(7)"
   ]
  },
  {
   "cell_type": "code",
   "execution_count": 2,
   "metadata": {},
   "outputs": [],
   "source": [
    "def create_dataset(dataset, look_back=1):\n",
    "    dataX, dataY = [], []\n",
    "    for i in range(len(dataset)-look_back-1):\n",
    "        a = dataset[i:(i+look_back), 0]\n",
    "        dataX.append(a)\n",
    "        dataY.append(dataset[i + look_back, 0])\n",
    "    return numpy.array(dataX), numpy.array(dataY)"
   ]
  },
  {
   "cell_type": "code",
   "execution_count": 3,
   "metadata": {},
   "outputs": [],
   "source": [
    "#df = read_csv('flights.csv', usecols=[1], engine='python', skipfooter=3)\n",
    "df= read_csv('./서울시 기간별 시간평균 대기환경 정보(초미세먼지).csv', encoding='euc-kr')\n",
    "df.head()\n",
    "\n",
    "dataset = df['강남구'].values.reshape(-1, 1)\n",
    "dataset = dataset.astype('float32')"
   ]
  },
  {
   "cell_type": "code",
   "execution_count": 4,
   "metadata": {},
   "outputs": [],
   "source": [
    "scaler = MinMaxScaler(feature_range=(0, 1))\n",
    "dataset = scaler.fit_transform(dataset)"
   ]
  },
  {
   "cell_type": "code",
   "execution_count": 5,
   "metadata": {},
   "outputs": [],
   "source": [
    "train_size = int(len(dataset) * 0.70)\n",
    "test_size = len(dataset) - train_size\n",
    "train, test = dataset[0:train_size,:], dataset[train_size:len(dataset),:]"
   ]
  },
  {
   "cell_type": "code",
   "execution_count": 6,
   "metadata": {},
   "outputs": [],
   "source": [
    "look_back = 3\n",
    "trainX, trainY = create_dataset(train, look_back)\n",
    "testX, testY = create_dataset(test, look_back)"
   ]
  },
  {
   "cell_type": "code",
   "execution_count": 7,
   "metadata": {},
   "outputs": [],
   "source": [
    "trainX = numpy.reshape(trainX, (trainX.shape[0], trainX.shape[1], 1))\n",
    "testX = numpy.reshape(testX, (testX.shape[0], testX.shape[1], 1))"
   ]
  },
  {
   "cell_type": "code",
   "execution_count": null,
   "metadata": {
    "scrolled": false
   },
   "outputs": [
    {
     "name": "stderr",
     "output_type": "stream",
     "text": [
      "WARNING: Logging before flag parsing goes to stderr.\n",
      "W0818 23:29:08.514714 15096 deprecation_wrapper.py:119] From c:\\program files\\python37\\lib\\site-packages\\keras\\backend\\tensorflow_backend.py:74: The name tf.get_default_graph is deprecated. Please use tf.compat.v1.get_default_graph instead.\n",
      "\n",
      "W0818 23:29:08.527703 15096 deprecation_wrapper.py:119] From c:\\program files\\python37\\lib\\site-packages\\keras\\backend\\tensorflow_backend.py:517: The name tf.placeholder is deprecated. Please use tf.compat.v1.placeholder instead.\n",
      "\n",
      "W0818 23:29:08.528700 15096 deprecation_wrapper.py:119] From c:\\program files\\python37\\lib\\site-packages\\keras\\backend\\tensorflow_backend.py:4138: The name tf.random_uniform is deprecated. Please use tf.random.uniform instead.\n",
      "\n",
      "W0818 23:29:08.645362 15096 deprecation_wrapper.py:119] From c:\\program files\\python37\\lib\\site-packages\\keras\\optimizers.py:790: The name tf.train.Optimizer is deprecated. Please use tf.compat.v1.train.Optimizer instead.\n",
      "\n",
      "W0818 23:29:08.770034 15096 deprecation.py:323] From c:\\program files\\python37\\lib\\site-packages\\tensorflow\\python\\ops\\math_grad.py:1250: add_dispatch_support.<locals>.wrapper (from tensorflow.python.ops.array_ops) is deprecated and will be removed in a future version.\n",
      "Instructions for updating:\n",
      "Use tf.where in 2.0, which has the same broadcast rule as np.where\n",
      "W0818 23:29:09.133116 15096 deprecation_wrapper.py:119] From c:\\program files\\python37\\lib\\site-packages\\keras\\backend\\tensorflow_backend.py:986: The name tf.assign_add is deprecated. Please use tf.compat.v1.assign_add instead.\n",
      "\n",
      "W0818 23:29:09.188942 15096 deprecation_wrapper.py:119] From c:\\program files\\python37\\lib\\site-packages\\keras\\backend\\tensorflow_backend.py:973: The name tf.assign is deprecated. Please use tf.compat.v1.assign instead.\n",
      "\n"
     ]
    },
    {
     "name": "stdout",
     "output_type": "stream",
     "text": [
      "Epoch 1/100\n",
      " - 8s - loss: 0.0124\n",
      "Epoch 2/100\n",
      " - 7s - loss: 0.0044\n",
      "Epoch 3/100\n",
      " - 7s - loss: 0.0042\n",
      "Epoch 4/100\n",
      " - 7s - loss: 0.0040\n",
      "Epoch 5/100\n",
      " - 7s - loss: 0.0039\n",
      "Epoch 6/100\n",
      " - 7s - loss: 0.0038\n",
      "Epoch 7/100\n",
      " - 7s - loss: 0.0037\n",
      "Epoch 8/100\n",
      " - 7s - loss: 0.0035\n",
      "Epoch 9/100\n",
      " - 7s - loss: 0.0034\n",
      "Epoch 10/100\n",
      " - 7s - loss: 0.0033\n",
      "Epoch 11/100\n",
      " - 7s - loss: 0.0031\n",
      "Epoch 12/100\n",
      " - 7s - loss: 0.0029\n",
      "Epoch 13/100\n",
      " - 7s - loss: 0.0028\n",
      "Epoch 14/100\n",
      " - 7s - loss: 0.0027\n",
      "Epoch 15/100\n",
      " - 7s - loss: 0.0027\n",
      "Epoch 16/100\n",
      " - 7s - loss: 0.0027\n",
      "Epoch 17/100\n",
      " - 7s - loss: 0.0027\n",
      "Epoch 18/100\n",
      " - 7s - loss: 0.0026\n",
      "Epoch 19/100\n",
      " - 7s - loss: 0.0026\n",
      "Epoch 20/100\n",
      " - 7s - loss: 0.0026\n",
      "Epoch 21/100\n",
      " - 7s - loss: 0.0026\n",
      "Epoch 22/100\n",
      " - 7s - loss: 0.0026\n",
      "Epoch 23/100\n",
      " - 7s - loss: 0.0025\n",
      "Epoch 24/100\n",
      " - 7s - loss: 0.0025\n",
      "Epoch 25/100\n",
      " - 7s - loss: 0.0025\n",
      "Epoch 26/100\n",
      " - 7s - loss: 0.0026\n",
      "Epoch 27/100\n",
      " - 7s - loss: 0.0025\n",
      "Epoch 28/100\n",
      " - 7s - loss: 0.0025\n",
      "Epoch 29/100\n",
      " - 7s - loss: 0.0025\n",
      "Epoch 30/100\n",
      " - 7s - loss: 0.0025\n",
      "Epoch 31/100\n",
      " - 7s - loss: 0.0025\n",
      "Epoch 32/100\n",
      " - 7s - loss: 0.0025\n",
      "Epoch 33/100\n",
      " - 7s - loss: 0.0025\n",
      "Epoch 34/100\n",
      " - 7s - loss: 0.0025\n",
      "Epoch 35/100\n",
      " - 8s - loss: 0.0025\n",
      "Epoch 36/100\n",
      " - 7s - loss: 0.0025\n",
      "Epoch 37/100\n",
      " - 7s - loss: 0.0025\n",
      "Epoch 38/100\n",
      " - 7s - loss: 0.0025\n",
      "Epoch 39/100\n",
      " - 7s - loss: 0.0025\n",
      "Epoch 40/100\n",
      " - 7s - loss: 0.0025\n",
      "Epoch 41/100\n",
      " - 7s - loss: 0.0025\n",
      "Epoch 42/100\n",
      " - 7s - loss: 0.0025\n",
      "Epoch 43/100\n",
      " - 7s - loss: 0.0025\n",
      "Epoch 44/100\n",
      " - 8s - loss: 0.0025\n",
      "Epoch 45/100\n",
      " - 9s - loss: 0.0024\n",
      "Epoch 46/100\n",
      " - 9s - loss: 0.0025\n",
      "Epoch 47/100\n",
      " - 10s - loss: 0.0024\n",
      "Epoch 48/100\n",
      " - 8s - loss: 0.0025\n",
      "Epoch 49/100\n",
      " - 8s - loss: 0.0025\n",
      "Epoch 50/100\n",
      " - 8s - loss: 0.0025\n",
      "Epoch 51/100\n",
      " - 10s - loss: 0.0024\n",
      "Epoch 52/100\n",
      " - 9s - loss: 0.0025\n",
      "Epoch 53/100\n",
      " - 10s - loss: 0.0024\n",
      "Epoch 54/100\n",
      " - 9s - loss: 0.0025\n",
      "Epoch 55/100\n",
      " - 9s - loss: 0.0025\n",
      "Epoch 56/100\n",
      " - 8s - loss: 0.0025\n",
      "Epoch 57/100\n",
      " - 8s - loss: 0.0025\n",
      "Epoch 58/100\n",
      " - 11s - loss: 0.0025\n",
      "Epoch 59/100\n",
      " - 10s - loss: 0.0025\n",
      "Epoch 60/100\n",
      " - 10s - loss: 0.0025\n",
      "Epoch 61/100\n",
      " - 10s - loss: 0.0025\n",
      "Epoch 62/100\n",
      " - 9s - loss: 0.0024\n",
      "Epoch 63/100\n"
     ]
    }
   ],
   "source": [
    "model = Sequential()\n",
    "model.add(LSTM(4, input_shape=(look_back, 1)))\n",
    "model.add(Dense(1))\n",
    "model.compile(loss='mean_squared_error', optimizer='adam')\n",
    "model.fit(trainX, trainY, epochs=100, batch_size=1, verbose=2)"
   ]
  },
  {
   "cell_type": "code",
   "execution_count": null,
   "metadata": {},
   "outputs": [],
   "source": [
    "trainPredict = model.predict(trainX)\n",
    "testPredict = model.predict(testX)"
   ]
  },
  {
   "cell_type": "code",
   "execution_count": null,
   "metadata": {},
   "outputs": [],
   "source": [
    "trainPredict = scaler.inverse_transform(trainPredict)\n",
    "trainY = scaler.inverse_transform([trainY])\n",
    "\n",
    "testPredict = scaler.inverse_transform(testPredict)\n",
    "testY = scaler.inverse_transform([testY])"
   ]
  },
  {
   "cell_type": "code",
   "execution_count": null,
   "metadata": {},
   "outputs": [],
   "source": [
    "trainScore = math.sqrt(mean_squared_error(trainY[0], trainPredict[:,0]))\n",
    "print('Train Score: %.2f RMSE' % (trainScore))\n",
    "\n",
    "testScore = math.sqrt(mean_squared_error(testY[0], testPredict[:,0]))\n",
    "print('Test Score: %.2f RMSE' % (testScore))\n"
   ]
  },
  {
   "cell_type": "code",
   "execution_count": null,
   "metadata": {},
   "outputs": [],
   "source": [
    "trainPredictPlot = numpy.empty_like(dataset)\n",
    "trainPredictPlot[:, :] = numpy.nan\n",
    "trainPredictPlot[look_back:len(trainPredict)+look_back, :] = trainPredict\n",
    "\n",
    "testPredictPlot = numpy.empty_like(dataset)\n",
    "testPredictPlot[:, :] = numpy.nan\n",
    "testPredictPlot[len(trainPredict)+(look_back*2)+1:len(dataset)-1, :] = testPredict"
   ]
  },
  {
   "cell_type": "code",
   "execution_count": null,
   "metadata": {},
   "outputs": [],
   "source": [
    "plt.plot(scaler.inverse_transform(dataset), label='Actual Value')\n",
    "plt.plot(trainPredictPlot, label='Train Data Predice')\n",
    "plt.plot(testPredictPlot, label='Test Data Predice')\n",
    "plt.legend()\n",
    "plt.show()"
   ]
  },
  {
   "cell_type": "code",
   "execution_count": null,
   "metadata": {},
   "outputs": [],
   "source": []
  }
 ],
 "metadata": {
  "kernelspec": {
   "display_name": "Python 3",
   "language": "python",
   "name": "python3"
  },
  "language_info": {
   "codemirror_mode": {
    "name": "ipython",
    "version": 3
   },
   "file_extension": ".py",
   "mimetype": "text/x-python",
   "name": "python",
   "nbconvert_exporter": "python",
   "pygments_lexer": "ipython3",
   "version": "3.7.4"
  }
 },
 "nbformat": 4,
 "nbformat_minor": 2
}
