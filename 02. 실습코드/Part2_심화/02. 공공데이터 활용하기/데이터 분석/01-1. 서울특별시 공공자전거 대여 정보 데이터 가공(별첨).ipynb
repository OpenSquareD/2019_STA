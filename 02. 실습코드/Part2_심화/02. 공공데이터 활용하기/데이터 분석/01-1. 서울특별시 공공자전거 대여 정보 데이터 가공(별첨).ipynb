{
 "cells": [
  {
   "cell_type": "markdown",
   "metadata": {},
   "source": [
    "# 데이터 폴더 구조\n",
    "\n",
    "data/seoul_public_bicycle/rent [서울특별시 공공자전거 대여이력 정보]\n",
    "> 원천 데이터 다운로드 https://data.seoul.go.kr/dataList/datasetView.do?infId=OA-15182&srvType=F&serviceKind=1&currentPageNo=1\n",
    "\n",
    "data/seoul_public_bicycle/station [서울특별시 공공자전거 대여소 정보]\n",
    "> 원천 데이터 다운로드 https://data.seoul.go.kr/dataList/datasetView.do?infId=OA-13252&srvType=F&serviceKind=1&currentPageNo=1\n",
    "\n",
    "data/seoul_public_bicycle/time [서울특별시 공공자전거 시간대별 대여정보]\n",
    "> 원천 데이터 다운로드 https://data.seoul.go.kr/dataList/datasetView.do?infId=OA-15245&srvType=F&serviceKind=1&currentPageNo=1\n"
   ]
  },
  {
   "cell_type": "code",
   "execution_count": 4,
   "metadata": {},
   "outputs": [],
   "source": [
    "import pandas as pd\n",
    "import numpy as np"
   ]
  },
  {
   "cell_type": "code",
   "execution_count": 23,
   "metadata": {},
   "outputs": [
    {
     "data": {
      "text/plain": [
       "(['./data/seoul_public_bicycle/rent\\\\서울특별시 공공자전거 대여이력 정보_2015년.csv',\n",
       "  './data/seoul_public_bicycle/rent\\\\서울특별시 공공자전거 대여이력 정보_2016년_1.csv',\n",
       "  './data/seoul_public_bicycle/rent\\\\서울특별시 공공자전거 대여이력 정보_2016년_2.csv',\n",
       "  './data/seoul_public_bicycle/rent\\\\서울특별시 공공자전거 대여이력 정보_2016년_3.csv',\n",
       "  './data/seoul_public_bicycle/rent\\\\서울특별시 공공자전거 대여이력 정보_2017년_1.csv',\n",
       "  './data/seoul_public_bicycle/rent\\\\서울특별시 공공자전거 대여이력 정보_2017년_2분기_1.csv',\n",
       "  './data/seoul_public_bicycle/rent\\\\서울특별시 공공자전거 대여이력 정보_2017년_2분기_2.csv',\n",
       "  './data/seoul_public_bicycle/rent\\\\서울특별시 공공자전거 대여이력 정보_2017년_3분기_1.csv',\n",
       "  './data/seoul_public_bicycle/rent\\\\서울특별시 공공자전거 대여이력 정보_2017년_3분기_2.csv',\n",
       "  './data/seoul_public_bicycle/rent\\\\서울특별시 공공자전거 대여이력 정보_2017년_4분기_2.csv',\n",
       "  './data/seoul_public_bicycle/rent\\\\서울특별시 공공자전거 대여이력 정보_2018년_1분기1.csv',\n",
       "  './data/seoul_public_bicycle/rent\\\\서울특별시 공공자전거 대여이력 정보_2018년_2분기_2.csv',\n",
       "  './data/seoul_public_bicycle/rent\\\\서울특별시 공공자전거 대여이력 정보_2018년_2분기_3.csv',\n",
       "  './data/seoul_public_bicycle/rent\\\\서울특별시 공공자전거 대여이력 정보_2018년_2분기_4.csv',\n",
       "  './data/seoul_public_bicycle/rent\\\\서울특별시 공공자전거 대여정보_201812.csv',\n",
       "  './data/seoul_public_bicycle/rent\\\\서울특별시 공공자전거 대여정보_201901.csv',\n",
       "  './data/seoul_public_bicycle/rent\\\\서울특별시 공공자전거 대여정보_201902.csv'],\n",
       " ['./data/seoul_public_bicycle/rent\\\\서울특별시 공공자전거 대여정보_201807_01.xlsx',\n",
       "  './data/seoul_public_bicycle/rent\\\\서울특별시 공공자전거 대여정보_201807_02.xlsx',\n",
       "  './data/seoul_public_bicycle/rent\\\\서울특별시 공공자전거 대여정보_201808.xlsx',\n",
       "  './data/seoul_public_bicycle/rent\\\\서울특별시 공공자전거 대여정보_201809_1.xlsx',\n",
       "  './data/seoul_public_bicycle/rent\\\\서울특별시 공공자전거 대여정보_201809_2.xlsx',\n",
       "  './data/seoul_public_bicycle/rent\\\\서울특별시 공공자전거 대여정보_201810_02.xlsx',\n",
       "  './data/seoul_public_bicycle/rent\\\\서울특별시 공공자전거 대여정보_201811.xlsx'])"
      ]
     },
     "execution_count": 23,
     "metadata": {},
     "output_type": "execute_result"
    }
   ],
   "source": [
    "import os\n",
    "import glob\n",
    "path = './data/seoul_public_bicycle/rent/'\n",
    "\n",
    "# csv 파일과 xlsx 파일 리스트 분리\n",
    "csv = glob.glob(path+'*.csv')\n",
    "\n",
    "xlsx = glob.glob(path+'*.xlsx')\n",
    "\n",
    "# 분리된 파일 확인\n",
    "csv, xlsx"
   ]
  },
  {
   "cell_type": "code",
   "execution_count": 39,
   "metadata": {},
   "outputs": [],
   "source": [
    "column_name = ['자전거번호', '대여일시', '대여대여소번호', '대여대여소명',\n",
    "               '거치대순번', '반납일시', '반납대여소번호', '반납대여소명',\n",
    "               '반납거치대순번', '이용시간', '이용거리']"
   ]
  },
  {
   "cell_type": "code",
   "execution_count": 50,
   "metadata": {},
   "outputs": [
    {
     "name": "stderr",
     "output_type": "stream",
     "text": [
      "C:\\Users\\BAEMIN\\Anaconda3\\lib\\site-packages\\IPython\\core\\interactiveshell.py:3057: DtypeWarning: Columns (2) have mixed types. Specify dtype option on import or set low_memory=False.\n",
      "  interactivity=interactivity, compiler=compiler, result=result)\n"
     ]
    },
    {
     "data": {
      "text/plain": [
       "(10145572, 11)"
      ]
     },
     "execution_count": 50,
     "metadata": {},
     "output_type": "execute_result"
    }
   ],
   "source": [
    "# CSV 파일 병합\n",
    "df = pd.read_csv(csv[0], encoding='cp949')\n",
    "df.columns = column_name\n",
    "\n",
    "for file in csv[1:]:\n",
    "    df2 = pd.read_csv(file, encoding='cp949')\n",
    "    df2.columns = column_name\n",
    "    \n",
    "    df = pd.concat([df, df2])\n",
    "df.shape"
   ]
  },
  {
   "cell_type": "code",
   "execution_count": 53,
   "metadata": {},
   "outputs": [
    {
     "data": {
      "text/plain": [
       "(15019907, 11)"
      ]
     },
     "execution_count": 53,
     "metadata": {},
     "output_type": "execute_result"
    }
   ],
   "source": [
    "# XLSX 파일 병합\n",
    "for file in xlsx:\n",
    "    df2 = pd.read_excel(file)\n",
    "    df2.columns = column_name\n",
    "    \n",
    "    df = pd.concat([df, df2])\n",
    "df.shape"
   ]
  },
  {
   "cell_type": "code",
   "execution_count": 98,
   "metadata": {},
   "outputs": [],
   "source": [
    "# 병합 파일 저장\n",
    "df.to_csv('./data/seoul_public_bicycle/rent_merge.csv', index=False)"
   ]
  }
 ],
 "metadata": {
  "kernelspec": {
   "display_name": "Python 3",
   "language": "python",
   "name": "python3"
  },
  "language_info": {
   "codemirror_mode": {
    "name": "ipython",
    "version": 3
   },
   "file_extension": ".py",
   "mimetype": "text/x-python",
   "name": "python",
   "nbconvert_exporter": "python",
   "pygments_lexer": "ipython3",
   "version": "3.7.3"
  },
  "pycharm": {
   "stem_cell": {
    "cell_type": "raw",
    "metadata": {
     "collapsed": false
    },
    "source": []
   }
  }
 },
 "nbformat": 4,
 "nbformat_minor": 1
}
